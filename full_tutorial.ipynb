{
 "cells": [
  {
   "metadata": {},
   "cell_type": "markdown",
   "source": "## Teacher-Student Learning with JAX",
   "id": "613e7eaeb6f51f0"
  },
  {
   "metadata": {
    "ExecuteTime": {
     "end_time": "2024-12-04T01:41:33.480988Z",
     "start_time": "2024-12-04T01:41:33.474986Z"
    }
   },
   "cell_type": "code",
   "source": [
    "import jax.numpy as jnp\n",
    "from jax import grad, jit, vmap\n",
    "import numpy as np\n",
    "import matplotlib.pyplot as plt\n",
    "\n",
    "from utils import load_plot_config\n",
    "from jax.scipy.special import erf\n",
    "load_plot_config()"
   ],
   "id": "6d1954b7a0e227ac",
   "outputs": [],
   "execution_count": 2
  },
  {
   "metadata": {},
   "cell_type": "markdown",
   "source": [
    "## We will focus on the two layer neural network from Goldt et al. (2019)\n",
    "We start by defining a two layer teacher network with erf activation function\n",
    "$$ f(x) = V^{*} \\text{erf}\\left(\\frac{W^{*} x}{\\sqrt{N}}\\right) $$\n",
    "\n",
    "with $V^{*}\\in \\mathbb{R}^{1 \\times M}$ and $W^{*}\\in \\mathbb{R}^{M\\times N}$, $N$ being the input dimension and $M$ the number of hidden units, and the error function $$\\text{erf}(x) = \\frac{2}{\\sqrt{\\pi}}\\int_{0}^{\\frac{x}{\\sqrt{2}}}e^{-t^{2}}dt$$"
   ],
   "id": "b91eb411ec43477a"
  },
  {
   "metadata": {
    "ExecuteTime": {
     "end_time": "2024-12-04T01:43:40.109283Z",
     "start_time": "2024-12-04T01:43:40.104423Z"
    }
   },
   "cell_type": "code",
   "source": [
    "@jit\n",
    "def error_function(x):\n",
    "    return erf(x/jnp.sqrt(2.0))\n",
    "\n",
    "@jit\n",
    "def error_function_derivative(x):\n",
    "    return 2.0*jnp.exp(-0.5*x**2)/jnp.sqrt(2.0*jnp.pi)"
   ],
   "id": "fc29ac0c05716b03",
   "outputs": [],
   "execution_count": 9
  },
  {
   "metadata": {
    "ExecuteTime": {
     "end_time": "2024-12-04T01:43:42.010249Z",
     "start_time": "2024-12-04T01:43:41.902311Z"
    }
   },
   "cell_type": "code",
   "source": [
    "x = jnp.linspace(-5, 5, 100)\n",
    "plt.plot(x, error_function(x), label='erf(x)')\n",
    "plt.plot(x, error_function_derivative(x), label='erf\\'(x)')\n",
    "plt.legend()\n",
    "plt.show()"
   ],
   "id": "8520e80fa2f6ccfe",
   "outputs": [
    {
     "data": {
      "text/plain": [
       "<Figure size 640x480 with 1 Axes>"
      ],
      "image/png": "[encoded data removed]"
     },
     "metadata": {},
     "output_type": "display_data"
    }
   ],
   "execution_count": 10
  },
  {
   "metadata": {
    "ExecuteTime": {
     "end_time": "2024-12-04T01:43:43.109245Z",
     "start_time": "2024-12-04T01:43:43.093703Z"
    }
   },
   "cell_type": "code",
   "source": [
    "@jit\n",
    "def erf_net_predict(W2, W1, x, input_dim):\n",
    "    linear_hidden = jnp.dot(W1, x)/jnp.sqrt(input_dim)\n",
    "    hidden_layer = error_function(linear_hidden)\n",
    "    output = jnp.dot(W2, hidden_layer)\n",
    "    return output\n",
    "\n",
    "@jit\n",
    "def batch_erf_net_predict(W2, W1, x, input_dim):\n",
    "    return vmap(erf_net_predict,\n",
    "                in_axes=(None, None, 0, None))(W2, W1, x, input_dim)\n",
    "\n",
    "@jit\n",
    "def mse_loss(preds, target):\n",
    "    return jnp.mean(jnp.square(preds - target))/2.0\n",
    "\n",
    "@jit\n",
    "def erf_net_loss(W2, W1, x, y, input_dim):\n",
    "    preds = batch_erf_net_predict(W2, W1, x, input_dim)\n",
    "    return mse_loss(preds, y)\n",
    "\n",
    "@jit\n",
    "def erf_net_update(W2, W1, x, y, lr, input_dim):\n",
    "    loss = mse_loss(W2, W1, x, y, input_dim)\n",
    "    grads = grad(mse_loss, argnums=(0, 1))(W2, W1, x, y, input_dim)\n",
    "    W2_update = - lr * grads[0]/input_dim\n",
    "    W1_update = - lr * grads[1]\n",
    "    W2_next = W2 + W2_update\n",
    "    W1_next = W1 + W1_update\n",
    "    return W2_next, W1_next, W2_update, W1_update, loss\n",
    "\n",
    "class ErfTwoLayerNet(object):\n",
    "\n",
    "    def __init__(self, W, V, learning_rate=1e-3, weight_scale=1e-5):\n",
    "        self.W1 = W\n",
    "        self.W2 = V\n",
    "        self.lr = learning_rate\n",
    "        self.init_weight_scale = weight_scale\n",
    "        \n",
    "    def predict(self, x):\n",
    "        return erf_net_predict(self.W2, self.W1, x, self.input_dim)\n",
    "\n",
    "    def batch_predict(self, x):\n",
    "        return batch_erf_net_predict(self.W2, self.W1, x, self.input_dim)\n",
    "\n",
    "    def loss(self, x, y):\n",
    "        return mse_loss(self.W2, self.W1, x, y, self.input_dim)\n",
    "\n",
    "    def update(self, x, y):\n",
    "        self.W1, self.W2, self.last_W2_update, self.last_W1_update, loss = ErfTwoLayerNet.erf_net_loss(self.W2, self.W1, x, y, self.lr, self.input_dim)\n",
    "        return loss"
   ],
   "id": "998aac201cf4f80e",
   "outputs": [],
   "execution_count": 11
  },
  {
   "metadata": {},
   "cell_type": "markdown",
   "source": "## Defining teacher parameters",
   "id": "5ed3db843f472cee"
  },
  {
   "metadata": {
    "ExecuteTime": {
     "end_time": "2024-12-04T01:44:17.891142Z",
     "start_time": "2024-12-04T01:44:17.879006Z"
    }
   },
   "cell_type": "code",
   "source": [
    "input_dim = 784\n",
    "hidden_dim = 100\n",
    "output_dim = 1\n",
    "initial_weight_scale = 1e-5\n",
    "\n",
    "W_teacher = np.random.normal(0, initial_weight_scale, (hidden_dim, input_dim))\n",
    "V_teacher = np.random.normal(0, initial_weight_scale, (output_dim, hidden_dim))\n",
    "\n",
    "print(W_teacher.shape, V_teacher.shape)"
   ],
   "id": "949e14c7c88ff395",
   "outputs": [
    {
     "name": "stdout",
     "output_type": "stream",
     "text": [
      "(100, 784) (1, 100)\n"
     ]
    }
   ],
   "execution_count": 13
  },
  {
   "metadata": {},
   "cell_type": "code",
   "outputs": [],
   "execution_count": null,
   "source": "",
   "id": "364bb94bc409ed60"
  }
 ],
 "metadata": {
  "kernelspec": {
   "display_name": "Python 3",
   "language": "python",
   "name": "python3"
  },
  "language_info": {
   "codemirror_mode": {
    "name": "ipython",
    "version": 2
   },
   "file_extension": ".py",
   "mimetype": "text/x-python",
   "name": "python",
   "nbconvert_exporter": "python",
   "pygments_lexer": "ipython2",
   "version": "2.7.6"
  }
 },
 "nbformat": 4,
 "nbformat_minor": 5
}
